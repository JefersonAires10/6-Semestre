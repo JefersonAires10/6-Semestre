{
  "nbformat": 4,
  "nbformat_minor": 0,
  "metadata": {
    "colab": {
      "provenance": []
    },
    "kernelspec": {
      "name": "python3",
      "display_name": "Python 3"
    },
    "language_info": {
      "name": "python"
    }
  },
  "cells": [
    {
      "cell_type": "code",
      "execution_count": 8,
      "metadata": {
        "colab": {
          "base_uri": "https://localhost:8080/"
        },
        "id": "gdu-POxc84gs",
        "outputId": "8c8b06fd-c7ef-47ac-a724-2e8c3dff8fda"
      },
      "outputs": [
        {
          "output_type": "stream",
          "name": "stdout",
          "text": [
            "Requirement already satisfied: beautifulsoup4 in /usr/local/lib/python3.10/dist-packages (4.12.3)\n",
            "Requirement already satisfied: soupsieve>1.2 in /usr/local/lib/python3.10/dist-packages (from beautifulsoup4) (2.6)\n",
            "Requirement already satisfied: requests in /usr/local/lib/python3.10/dist-packages (2.32.3)\n",
            "Requirement already satisfied: charset-normalizer<4,>=2 in /usr/local/lib/python3.10/dist-packages (from requests) (3.4.0)\n",
            "Requirement already satisfied: idna<4,>=2.5 in /usr/local/lib/python3.10/dist-packages (from requests) (3.10)\n",
            "Requirement already satisfied: urllib3<3,>=1.21.1 in /usr/local/lib/python3.10/dist-packages (from requests) (2.2.3)\n",
            "Requirement already satisfied: certifi>=2017.4.17 in /usr/local/lib/python3.10/dist-packages (from requests) (2024.8.30)\n",
            "Collecting pymupdf\n",
            "  Downloading PyMuPDF-1.24.13-cp39-abi3-manylinux2014_x86_64.manylinux_2_17_x86_64.whl.metadata (3.4 kB)\n",
            "Downloading PyMuPDF-1.24.13-cp39-abi3-manylinux2014_x86_64.manylinux_2_17_x86_64.whl (19.8 MB)\n",
            "\u001b[2K   \u001b[90m━━━━━━━━━━━━━━━━━━━━━━━━━━━━━━━━━━━━━━━━\u001b[0m \u001b[32m19.8/19.8 MB\u001b[0m \u001b[31m53.7 MB/s\u001b[0m eta \u001b[36m0:00:00\u001b[0m\n",
            "\u001b[?25hInstalling collected packages: pymupdf\n",
            "Successfully installed pymupdf-1.24.13\n",
            "Requirement already satisfied: pytesseract in /usr/local/lib/python3.10/dist-packages (0.3.13)\n",
            "Requirement already satisfied: packaging>=21.3 in /usr/local/lib/python3.10/dist-packages (from pytesseract) (24.2)\n",
            "Requirement already satisfied: Pillow>=8.0.0 in /usr/local/lib/python3.10/dist-packages (from pytesseract) (11.0.0)\n",
            "Requirement already satisfied: pillow in /usr/local/lib/python3.10/dist-packages (11.0.0)\n"
          ]
        }
      ],
      "source": [
        "!pip install beautifulsoup4\n",
        "!pip install requests\n",
        "!pip install pymupdf\n",
        "!pip install pytesseract\n",
        "!pip install pillow"
      ]
    },
    {
      "cell_type": "code",
      "source": [
        "import os\n",
        "import requests\n",
        "from bs4 import BeautifulSoup\n",
        "import fitz\n",
        "import pytesseract\n",
        "from PIL import Image\n",
        "\n",
        "def extract_from_html(url):\n",
        "    response = requests.get(url)\n",
        "    doc = BeautifulSoup(response.content, \"html.parser\")\n",
        "    title = doc.title.string\n",
        "    links = doc.select(\"a[href]\")\n",
        "    print(\"Título:\", title)\n",
        "    print(\"\\nLinks:\")\n",
        "    for link in links:\n",
        "        print(link[\"href\"])\n",
        "\n",
        "def extract_from_pdf(pdf_path):\n",
        "    doc = fitz.open(pdf_path)\n",
        "    text = \"\"\n",
        "    for page_num in range(len(doc)):\n",
        "        page = doc.load_page(page_num)\n",
        "        text += page.get_text()\n",
        "    print(\"Texto extraído do PDF:\")\n",
        "    print(text)\n",
        "\n",
        "def extract_from_image(image_path):\n",
        "    image = Image.open(image_path)\n",
        "    text = pytesseract.image_to_string(image)\n",
        "    print(\"Texto extraído da imagem:\")\n",
        "    print(text)\n",
        "\n",
        "def main(file_path):\n",
        "    if file_path.startswith(\"http\"):\n",
        "        extract_from_html(file_path)\n",
        "    elif file_path.lower().endswith(\".pdf\"):\n",
        "        extract_from_pdf(file_path)\n",
        "    elif file_path.lower().endswith((\".png\", \".jpg\", \".jpeg\")):\n",
        "        extract_from_image(file_path)\n",
        "    else:\n",
        "        print(\"Tipo de arquivo não suportado\")\n",
        "\n",
        "# Exemplo de uso\n",
        "# Para HTML\n",
        "# main(\"https://quotes.toscrape.com/\")\n",
        "\n",
        "# Para PDF\n",
        "main(\"/content/Relatorio_anual.pdf\")\n",
        "\n",
        "# Para Imagem\n",
        "# main(\"/content/img.jpg\")"
      ],
      "metadata": {
        "colab": {
          "base_uri": "https://localhost:8080/"
        },
        "id": "mdlAXKWF89EF",
        "outputId": "4003d16c-8b8a-4ec7-9193-e20f8faea92c"
      },
      "execution_count": 11,
      "outputs": [
        {
          "output_type": "stream",
          "name": "stdout",
          "text": [
            "Texto extraído do PDF:\n",
            "Relatório Anual - 2024\n",
            "Empresa ABC Ltda.\n",
            "Data: 6 de Novembro de 2024\n",
            "1. Resumo Executivo\n",
            "O ano de 2024 representou um período de grandes desafios e conquistas para a ABC Ltda.\n",
            "Em meio a um cenário econômico em constante mudança, a empresa conseguiu manter um\n",
            "crescimento estável de 8%, fortalecendo sua posição no mercado e expandindo sua base\n",
            "de clientes. Este relatório oferece uma visão abrangente das atividades, desempenho\n",
            "financeiro, e avanços em inovação ao longo do ano.\n",
            "2. Desempenho Financeiro\n",
            "Receita Total: R$ 12.500.000 (+8% em relação a 2023)\n",
            "Lucro Líquido: R$ 2.400.000 (+5% em relação a 2023)\n",
            "Despesas Operacionais: R$ 8.700.000\n",
            "O aumento na receita é atribuído ao lançamento de novos produtos e à expansão de\n",
            "operações internacionais. Em contrapartida, o aumento das despesas operacionais foi\n",
            "resultado de investimentos em infraestrutura e contratação de novos talentos.\n",
            "3. Inovação e Tecnologia\n",
            "Em 2024, a ABC Ltda. lançou 3 novos produtos que foram bem recebidos pelo mercado. A\n",
            "empresa também implementou um novo sistema de automação de processos que reduziu o\n",
            "tempo de produção em 15% e os custos operacionais em 12%.\n",
            "4. Sustentabilidade e Responsabilidade Social\n",
            "A empresa intensificou suas práticas de sustentabilidade ao longo do ano, com foco na\n",
            "redução de desperdício de materiais e no uso de fontes de energia renováveis. Em 2024, a\n",
            "ABC Ltda. reduziu suas emissões de carbono em 20% e realizou parcerias com ONGs\n",
            "locais para projetos educacionais.\n",
            "5. Projeções para 2025\n",
            "Para o próximo ano, a ABC Ltda. planeja expandir sua presença no mercado\n",
            "latino-americano e investir em tecnologias verdes. A empresa estima um crescimento de\n",
            "10% na receita e pretende investir 15% de seu orçamento em pesquisa e desenvolvimento.\n",
            "6. Conclusão\n",
            "O ano de 2024 trouxe resultados positivos para a ABC Ltda., com crescimento em várias\n",
            "frentes e fortalecimento de seu compromisso com a sustentabilidade. A empresa está\n",
            "otimista quanto ao futuro e focada em continuar sua trajetória de inovação e\n",
            "responsabilidade social.\n",
            "\n"
          ]
        }
      ]
    }
  ]
}